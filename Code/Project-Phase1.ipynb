{
 "metadata": {
  "name": ""
 },
 "nbformat": 3,
 "nbformat_minor": 0,
 "worksheets": [
  {
   "cells": [
    {
     "cell_type": "code",
     "collapsed": false,
     "input": [
      "import numpy as np\n",
      "import pandas as pd\n",
      "import nltk as nltk"
     ],
     "language": "python",
     "metadata": {},
     "outputs": [],
     "prompt_number": 2
    },
    {
     "cell_type": "code",
     "collapsed": false,
     "input": [
      "data_root = \"/home/rose/UMass/Courses/F15/NLP/Homeworks/PROJECT/RumorDetection/Data/Phase1/\""
     ],
     "language": "python",
     "metadata": {},
     "outputs": [],
     "prompt_number": 30
    },
    {
     "cell_type": "code",
     "collapsed": false,
     "input": [
      "def load_tweets_label(filepath) :\n",
      "    df = pd.read_csv(filepath,sep='\\t')\n",
      "    columns_of_interest = ['tweet','label']\n",
      "    df = df.reindex(columns=columns_of_interest)\n",
      "    df.loc[df['label'] > 0, 'label'] = 1\n",
      "    return df"
     ],
     "language": "python",
     "metadata": {},
     "outputs": [],
     "prompt_number": 7
    },
    {
     "cell_type": "code",
     "collapsed": false,
     "input": [
      "#load datafiles\n",
      "airfrance_raw = load_tweets_label(data_root+\"airfrance.txt\")\n",
      "michelle_raw = load_tweets_label(data_root+\"michelle.txt\")\n",
      "palin_raw = load_tweets_label(data_root+\"palin.txt\")"
     ],
     "language": "python",
     "metadata": {},
     "outputs": [],
     "prompt_number": 8
    },
    {
     "cell_type": "code",
     "collapsed": false,
     "input": [
      "print (\"PALIN DATASET : \", palin_raw.shape)\n",
      "print (\"MICHELLE DATASET : \", michelle_raw.shape)\n",
      "print (\"AIRFRANCE DATASET : \", airfrance_raw.shape)"
     ],
     "language": "python",
     "metadata": {},
     "outputs": [
      {
       "output_type": "stream",
       "stream": "stdout",
       "text": [
        "('PALIN DATASET : ', (4423, 2))\n",
        "('MICHELLE DATASET : ', (299, 2))\n",
        "('AIRFRANCE DATASET : ', (505, 2))\n"
       ]
      }
     ],
     "prompt_number": 14
    },
    {
     "cell_type": "code",
     "collapsed": false,
     "input": [
      "#join the two dataframes\n",
      "michelle_airfrance_raw = michelle_raw.append(airfrance_raw)\n",
      "print (\"MICHELLE - AIRFRANCE DATASET : \", michelle_airfrance_raw.shape)"
     ],
     "language": "python",
     "metadata": {},
     "outputs": [
      {
       "output_type": "stream",
       "stream": "stdout",
       "text": [
        "('MICHELLE - AIRFRANCE DATASET : ', (804, 2))\n"
       ]
      }
     ],
     "prompt_number": 16
    },
    {
     "cell_type": "code",
     "collapsed": false,
     "input": [
      "# tokenization\n",
      "import re\n",
      " \n",
      "emoticons_str = r\"\"\"\n",
      "    (?:\n",
      "        [:=;] # Eyes\n",
      "        [oO\\-]? # Nose (optional)\n",
      "        [D\\)\\]\\(\\]/\\\\OpP] # Mouth\n",
      "    )\"\"\"\n",
      " \n",
      "regex_str = [\n",
      "    emoticons_str,\n",
      "    r'<[^>]+>', # HTML tags\n",
      "    r'RT\\s*(?:@[\\w_]+)', # @-mentions\n",
      "    r\"(?:\\#+[\\w_]+[\\w\\'_\\-]*[\\w_]+)\", # hash-tags\n",
      "    r'http[s]?://(?:[a-z]|[0-9]|[$-_@.&+]|[!*\\(\\),]|(?:%[0-9a-f][0-9a-f]))+', # URLs\n",
      "    #r\"is\\s+(that|this|it)\\s+\\w*\\s*(real|rl|true)\", # is that | this etc.. real\n",
      "    r'(?:(?:\\d+,?)+(?:\\.?\\d+)?)', # numbers\n",
      "    r\"(?:[a-z][a-z'\\-_]+[a-z])\", # words with - and '\n",
      "    r'(?:[\\w_]+)', # other words\n",
      "    r'(?:\\S)' # anything else\n",
      "]\n",
      "\n",
      "tokens_re = re.compile(r'('+'|'.join(regex_str)+')', re.VERBOSE | re.IGNORECASE)\n",
      "emoticon_re = re.compile(r'^'+emoticons_str+'$', re.VERBOSE | re.IGNORECASE)\n",
      " \n",
      "def tokenize(s):\n",
      "    return tokens_re.findall(s)\n",
      " \n",
      "def preprocess(s, lowercase=False):\n",
      "    tokens = tokenize(s)\n",
      "    if lowercase:\n",
      "        tokens = [token if emoticon_re.search(token) else token.lower() for token in tokens]\n",
      "    return tokens"
     ],
     "language": "python",
     "metadata": {},
     "outputs": [],
     "prompt_number": 94
    },
    {
     "cell_type": "code",
     "collapsed": false,
     "input": [
      "#feature extraction\n",
      "#create empty array -- 7 columns - 1st 6 are features, 7th column is label\n",
      "# col 0- count of question marks\n",
      "# col 1- count of exclamation marks\n",
      "# col 2- count of hashtags\n",
      "# col 3- count of urls\n",
      "# col 4- count of @ symbols\n",
      "# col 5- count of question phrases\n",
      "def extract_features(dataset) :\n",
      "    num_of_tweets = dataset.shape[0]\n",
      "    num_of_features = 7\n",
      "    features = np.zeros((num_of_tweets, num_of_features))\n",
      "    for i in range(0, num_of_tweets) :\n",
      "        \n",
      "        tweet = dataset.iloc[i]['tweet']\n",
      "        label = dataset.iloc[i]['label']\n",
      "        \n",
      "        # set label column to tweets label\n",
      "        features[i][6] = label\n",
      "        \n",
      "        # set other features after tokenizing and counting through all of them\n",
      "        tweet_tokens = tk.preprocess(tweet)\n",
      "        for token in tweet_tokens:\n",
      "            # count num of question marks\n",
      "            if token=='?' :\n",
      "                features[i][0]+=1\n",
      "            # count num of exclamation marks\n",
      "            if token=='!' :\n",
      "                features[i][1]+=1\n",
      "            # count num of hashtags\n",
      "            if re.search( r\"(?:\\#+[\\w_]+[\\w\\'_\\-]*[\\w_]+)\", token) :\n",
      "                features[i][2]+=1\n",
      "            # count num of urls\n",
      "            if re.search( r'http[s]?://(?:[a-z]|[0-9]|[$-_@.&+]|[!*\\(\\),]|(?:%[0-9a-f][0-9a-f]))+', token) :\n",
      "                features[i][3]+=1\n",
      "            # count retweet\n",
      "            if re.search( r'RT\\s*(?:@[\\w_]+)', token) :\n",
      "                features[i][4]+=1\n",
      "        # count question phrases\n",
      "        # question phrase - is(that | this | it ) true\n",
      "        if(re.search( r\"is\\s+(that|this|it)\\s+\\w*\\s*(real|rl|true)\", tweet)):\n",
      "           features[i][5]+=1\n",
      "        # question phrase - really? real etc.. \n",
      "        if(re.search( r\"real(l|ll|lly|ly)*(\\?|\\!)+\", tweet)):\n",
      "           features[i][5]+=1\n",
      "        # tweet contains the word unconfirmed\n",
      "        if(re.search(r\"unconfirmed\", tweet)):\n",
      "           features[i][5]+=1\n",
      "        # question phrase - what?? or something similar\n",
      "        if(re.search(r\"wh[a]*t[?!][?1]*\", tweet)):\n",
      "           features[i][5]+=1\n",
      "    return features"
     ],
     "language": "python",
     "metadata": {},
     "outputs": [],
     "prompt_number": 95
    },
    {
     "cell_type": "code",
     "collapsed": false,
     "input": [
      "extract_features(palin_raw)"
     ],
     "language": "python",
     "metadata": {},
     "outputs": [
      {
       "metadata": {},
       "output_type": "pyout",
       "prompt_number": 80,
       "text": [
        "array([[ 6.,  0.,  1., ...,  1.,  0.,  1.],\n",
        "       [ 0.,  0.,  0., ...,  3.,  0.,  1.],\n",
        "       [ 1.,  0.,  0., ...,  1.,  0.,  0.],\n",
        "       ..., \n",
        "       [ 0.,  0.,  0., ...,  0.,  0.,  0.],\n",
        "       [ 0.,  0.,  0., ...,  0.,  0.,  1.],\n",
        "       [ 1.,  1.,  0., ...,  0.,  0.,  0.]])"
       ]
      }
     ],
     "prompt_number": 80
    },
    {
     "cell_type": "code",
     "collapsed": false,
     "input": [
      "a = np.zeros((5,1))"
     ],
     "language": "python",
     "metadata": {},
     "outputs": [],
     "prompt_number": 83
    },
    {
     "cell_type": "code",
     "collapsed": false,
     "input": [
      "np.save(\"a.npy\", a)"
     ],
     "language": "python",
     "metadata": {},
     "outputs": [],
     "prompt_number": 82
    },
    {
     "cell_type": "code",
     "collapsed": false,
     "input": [
      "## before adding question phrase\n",
      "tweet = \"lkjlkf 3#ljl @is RT @this fff RT@fing reall??\"\n",
      "preprocess(tweet)"
     ],
     "language": "python",
     "metadata": {},
     "outputs": [
      {
       "metadata": {},
       "output_type": "pyout",
       "prompt_number": 97,
       "text": [
        "['lkjlkf',\n",
        " '3',\n",
        " '#ljl',\n",
        " '@',\n",
        " 'is',\n",
        " 'RT @this',\n",
        " 'fff',\n",
        " 'RT@fing',\n",
        " 'reall',\n",
        " '?',\n",
        " '?']"
       ]
      }
     ],
     "prompt_number": 97
    },
    {
     "cell_type": "code",
     "collapsed": false,
     "input": [
      "# after adding the question phrase to the regexes. -- not a good idea\n",
      "tweet = \"l\n",
      "kjlkf 3#ljl is this ffffing reall??\"\n",
      "preprocess(tweet)"
     ],
     "language": "python",
     "metadata": {},
     "outputs": [
      {
       "metadata": {},
       "output_type": "pyout",
       "prompt_number": 88,
       "text": [
        "[('lkjlkf', '', ''),\n",
        " ('3', '', ''),\n",
        " ('#ljl', '', ''),\n",
        " ('is this ffffing real', 'this', 'real'),\n",
        " ('l', '', ''),\n",
        " ('?', '', ''),\n",
        " ('?', '', '')]"
       ]
      }
     ],
     "prompt_number": 88
    },
    {
     "cell_type": "code",
     "collapsed": false,
     "input": [
      "# tweets about the rumor\n",
      "print michelle_raw[michelle_raw.label>0].sum()['label']\n",
      "print airfrance_raw[airfrance_raw.label>0].sum()['label']\n",
      "print palin_raw[palin_raw.label>0].sum()['label']"
     ],
     "language": "python",
     "metadata": {},
     "outputs": [
      {
       "output_type": "stream",
       "stream": "stdout",
       "text": [
        "216\n",
        "199\n",
        "4337"
       ]
      },
      {
       "output_type": "stream",
       "stream": "stdout",
       "text": [
        "\n"
       ]
      }
     ],
     "prompt_number": 105
    },
    {
     "cell_type": "code",
     "collapsed": false,
     "input": [
      "#Added by Yamin\n",
      "def load_tweets_label_boston(filepath) :\n",
      "\t#read the file\n",
      "    df = pd.read_csv(filepath,sep='\\t')\n",
      "    #extract only the tweet and label for now\n",
      "    columns_of_interest = ['rumor_cluster_id','label','tweet']\n",
      "    df = df.reindex(columns=columns_of_interest)\n",
      "    #we are interested in only if the tweet is a rumor or not - so, \n",
      "    #we give it two classes - 0 - for not rumor, 1 - for rumor\n",
      "    df.loc[df['label'] > 0, 'label'] = 1\n",
      "    return df\n",
      "\n",
      "boston_raw=load_tweets_label_boston(data_root+\"boston_baseline_raw\")\n",
      "print boston_raw[boston_raw.label>0].sum()['label']"
     ],
     "language": "python",
     "metadata": {},
     "outputs": [
      {
       "output_type": "stream",
       "stream": "stdout",
       "text": [
        "86\n"
       ]
      }
     ],
     "prompt_number": 24
    },
    {
     "cell_type": "code",
     "collapsed": false,
     "input": [
      "f1 = np.load(data_root+\"train.npy\")\n",
      "f2 = np.load(data_root+\"test.npy\")"
     ],
     "language": "python",
     "metadata": {},
     "outputs": [],
     "prompt_number": 4
    },
    {
     "cell_type": "code",
     "collapsed": false,
     "input": [
      "train_rumors = []\n",
      "train_nonrumors = []\n",
      "test_rumors = []\n",
      "test_nonrumors = []\n",
      "for i in range(f1.shape[0]) :\n",
      "    if f1[i][6]==0:\n",
      "        train_nonrumors.append(f1[i])\n",
      "    else:\n",
      "        train_rumors.append(f1[i])\n",
      "for i in range(f2.shape[0]) :\n",
      "    if f2[i][6]==0:\n",
      "        test_nonrumors.append(f2[i])\n",
      "    else:\n",
      "        test_rumors.append(f2[i])        "
     ],
     "language": "python",
     "metadata": {},
     "outputs": [],
     "prompt_number": 14
    },
    {
     "cell_type": "code",
     "collapsed": false,
     "input": [
      "len(test_rumors)"
     ],
     "language": "python",
     "metadata": {},
     "outputs": [
      {
       "metadata": {},
       "output_type": "pyout",
       "prompt_number": 15,
       "text": [
        "415"
       ]
      }
     ],
     "prompt_number": 15
    },
    {
     "cell_type": "code",
     "collapsed": false,
     "input": [
      "print np.mean(train_nonrumors,axis=0)\n",
      "print np.sum(train_nonrumors,axis=0)\n",
      "print np.var(train_nonrumors,axis=0)"
     ],
     "language": "python",
     "metadata": {},
     "outputs": [
      {
       "output_type": "stream",
       "stream": "stdout",
       "text": [
        "[ 0.27906977  0.46511628  0.54651163  0.54651163  0.27906977  0.          0.        ]\n",
        "[ 24.  40.  47.  47.  24.   0.   0.]\n",
        "[ 0.52677123  0.78366685  4.27109248  0.24783667  0.27095727  0.          0.        ]\n"
       ]
      }
     ],
     "prompt_number": 23
    },
    {
     "cell_type": "code",
     "collapsed": false,
     "input": [
      "print np.mean(test_nonrumors,axis=0)\n",
      "print np.sum(test_nonrumors,axis=0)\n",
      "print np.var(test_nonrumors,axis=0)"
     ],
     "language": "python",
     "metadata": {},
     "outputs": [
      {
       "output_type": "stream",
       "stream": "stdout",
       "text": [
        "[ 0.13881748  0.22879177  0.12082262  0.85861183  0.35732648  0.00257069\n",
        "  0.        ]\n",
        "[  54.   89.   47.  334.  139.    1.    0.]\n",
        "[ 0.2429405   0.35639468  0.17306256  0.15224589  0.34789619  0.00256409\n",
        "  0.        ]\n"
       ]
      }
     ],
     "prompt_number": 22
    },
    {
     "cell_type": "code",
     "collapsed": false,
     "input": [
      "print np.mean(train_rumors,axis=0)\n",
      "print np.sum(train_rumors,axis=0)\n",
      "print np.var(train_nonrumors, axis=0)"
     ],
     "language": "python",
     "metadata": {},
     "outputs": [
      {
       "output_type": "stream",
       "stream": "stdout",
       "text": [
        "[ 0.32211206  0.21904542  0.29398202  0.83006687  0.43878257  0.0062255   1.        ]\n",
        "[ 1397.   950.  1275.  3600.  1903.    27.  4337.]\n",
        "[ 0.52677123  0.78366685  4.27109248  0.24783667  0.27095727  0.          0.        ]\n"
       ]
      }
     ],
     "prompt_number": 21
    },
    {
     "cell_type": "code",
     "collapsed": false,
     "input": [
      "print np.mean(test_rumors,axis=0)\n",
      "print np.sum(test_rumors,axis=0)\n",
      "print np.var(test_rumors,axis=0)"
     ],
     "language": "python",
     "metadata": {},
     "outputs": [
      {
       "output_type": "stream",
       "stream": "stdout",
       "text": [
        "[ 0.25301205  0.31325301  0.32289157  0.89879518  0.45783133  0.01927711\n",
        "  1.        ]\n",
        "[ 105.  130.  134.  373.  190.    8.  415.]\n",
        "[ 0.4106837   0.62958339  0.74875308  0.18252867  0.34942662  0.0189055   0.        ]\n"
       ]
      }
     ],
     "prompt_number": 20
    },
    {
     "cell_type": "code",
     "collapsed": false,
     "input": [
      "michelle_raw.loc[0]"
     ],
     "language": "python",
     "metadata": {},
     "outputs": [
      {
       "metadata": {},
       "output_type": "pyout",
       "prompt_number": 121,
       "text": [
        "tweet    Video: Rusty DePass Michelle Obama Gorrila Com...\n",
        "label                                                    0\n",
        "Name: 0, dtype: object"
       ]
      }
     ],
     "prompt_number": 121
    },
    {
     "cell_type": "code",
     "collapsed": false,
     "input": [
      "data_root = \"../Data/Phase1/\"\n",
      "\n",
      "def load_tweets_label(filepath) :\n",
      "\t#read the file\n",
      "    df = pd.read_csv(filepath,sep='\\t')\n",
      "    #extract only the tweet and label for now\n",
      "    columns_of_interest = ['tweet','label']\n",
      "    df = df.reindex(columns=columns_of_interest)\n",
      "    #we are interested in only if the tweet is a rumor or not - so, \n",
      "    #we give it two classes - 0 - for not rumor, 1 - for rumor\n",
      "    df.loc[df['label'] > 0, 'label'] = 1\n",
      "    return df"
     ],
     "language": "python",
     "metadata": {},
     "outputs": [],
     "prompt_number": 37
    },
    {
     "cell_type": "code",
     "collapsed": false,
     "input": [
      "palin_raw = load_tweets_label(data_root+\"palin.txt\")"
     ],
     "language": "python",
     "metadata": {},
     "outputs": [],
     "prompt_number": 26
    },
    {
     "cell_type": "code",
     "collapsed": false,
     "input": [
      "from collections import defaultdict\n",
      "from random import randint\n",
      "import csv\n",
      "\n",
      "f = open(dataroot+'palin_reduced.txt', 'wt')\n",
      "writer = csv.writer(f, delimiter='\\t')\n",
      "writer.writerow(\"date\tuserid\ttweet\tlabel\" )\n",
      "for row in reader:\n",
      "    writer.writerow(row)\n",
      "\n",
      "seen = defaultdict(float)\n",
      "i=0\n",
      "while(i<1500):\n",
      "    rnd_index=randint(0,4422)\n",
      "    if(seen[rnd_index]==0 && df.iloc[rnd_index]['label']==1) :\n",
      "        seen[rnd_index]+=1\n",
      "        i+=1\n",
      "        #fetch the tweet and write to file\n",
      "        try:\n",
      "            \n",
      "            \n",
      "    for i in range(10):\n",
      "        writer.writerow( (i+1, chr(ord('a') + i), '08/%02d/07' % (i+1)) )\n",
      "finally:\n",
      "    f.close()       "
     ],
     "language": "python",
     "metadata": {},
     "outputs": [
      {
       "output_type": "stream",
       "stream": "stdout",
       "text": [
        "5\n",
        "3\n",
        "1\n",
        "6\n",
        "8\n",
        "0\n",
        "7\n",
        "2\n",
        "1\n",
        "9\n"
       ]
      }
     ],
     "prompt_number": 28
    },
    {
     "cell_type": "code",
     "collapsed": false,
     "input": [
      "import csv\n",
      "\n",
      "f = open(data_root+'palin_reduced.txt', 'wt')\n",
      "writer = csv.writer(f, delimiter='\\t')\n",
      "writer.writerow(\"date\\tuserid\\ttweet\\tlabel\" )\n",
      "f.close()"
     ],
     "language": "python",
     "metadata": {},
     "outputs": [],
     "prompt_number": 34
    },
    {
     "cell_type": "code",
     "collapsed": false,
     "input": [
      "a=\"jkljl\""
     ],
     "language": "python",
     "metadata": {},
     "outputs": [],
     "prompt_number": 35
    },
    {
     "cell_type": "code",
     "collapsed": false,
     "input": [
      "a.lower()"
     ],
     "language": "python",
     "metadata": {},
     "outputs": [
      {
       "metadata": {},
       "output_type": "pyout",
       "prompt_number": 36,
       "text": [
        "'jkljl'"
       ]
      }
     ],
     "prompt_number": 36
    },
    {
     "cell_type": "code",
     "collapsed": false,
     "input": [
      "load_tweets_label(data_root+'cell.txt')"
     ],
     "language": "python",
     "metadata": {},
     "outputs": [
      {
       "html": [
        "<div style=\"max-width:1500px;overflow:auto;\">\n",
        "<table border=\"1\" class=\"dataframe\">\n",
        "  <thead>\n",
        "    <tr style=\"text-align: right;\">\n",
        "      <th></th>\n",
        "      <th>tweet</th>\n",
        "      <th>label</th>\n",
        "    </tr>\n",
        "  </thead>\n",
        "  <tbody>\n",
        "    <tr>\n",
        "      <th>0</th>\n",
        "      <td>Witnessing people screaming/fighting with some...</td>\n",
        "      <td>0</td>\n",
        "    </tr>\n",
        "    <tr>\n",
        "      <th>1</th>\n",
        "      <td>public transit. What a world. Please continue ...</td>\n",
        "      <td>0</td>\n",
        "    </tr>\n",
        "    <tr>\n",
        "      <th>2</th>\n",
        "      <td>I just heard cell phone numbers go public this...</td>\n",
        "      <td>1</td>\n",
        "    </tr>\n",
        "    <tr>\n",
        "      <th>3</th>\n",
        "      <td>RT @TIME: Twitter via cell phone: No data plan...</td>\n",
        "      <td>0</td>\n",
        "    </tr>\n",
        "    <tr>\n",
        "      <th>4</th>\n",
        "      <td>@daveweigel Why don't you post your cell phone...</td>\n",
        "      <td>0</td>\n",
        "    </tr>\n",
        "    <tr>\n",
        "      <th>5</th>\n",
        "      <td>Did y'all kno ur cell phone number goes public...</td>\n",
        "      <td>1</td>\n",
        "    </tr>\n",
        "    <tr>\n",
        "      <th>6</th>\n",
        "      <td>Cell Phone #'s go public this month. To preven...</td>\n",
        "      <td>1</td>\n",
        "    </tr>\n",
        "    <tr>\n",
        "      <th>7</th>\n",
        "      <td>publicly available cell-phone applications are...</td>\n",
        "      <td>0</td>\n",
        "    </tr>\n",
        "    <tr>\n",
        "      <th>8</th>\n",
        "      <td>RT @randymarchany: publicly available cell-pho...</td>\n",
        "      <td>0</td>\n",
        "    </tr>\n",
        "    <tr>\n",
        "      <th>9</th>\n",
        "      <td>RT @randymarchany: publicly available cell-pho...</td>\n",
        "      <td>0</td>\n",
        "    </tr>\n",
        "    <tr>\n",
        "      <th>10</th>\n",
        "      <td>If u're gonna talk about somebody who's \"burni...</td>\n",
        "      <td>0</td>\n",
        "    </tr>\n",
        "    <tr>\n",
        "      <th>11</th>\n",
        "      <td>Do NOT act a fool and curse people out on your...</td>\n",
        "      <td>0</td>\n",
        "    </tr>\n",
        "    <tr>\n",
        "      <th>12</th>\n",
        "      <td>Community service message. All Cell Phone Numb...</td>\n",
        "      <td>1</td>\n",
        "    </tr>\n",
        "    <tr>\n",
        "      <th>13</th>\n",
        "      <td>Cell phone #s go public this month to telemark...</td>\n",
        "      <td>1</td>\n",
        "    </tr>\n",
        "    <tr>\n",
        "      <th>14</th>\n",
        "      <td>RT @riannariego: Cell phone #s go public this ...</td>\n",
        "      <td>0</td>\n",
        "    </tr>\n",
        "    <tr>\n",
        "      <th>15</th>\n",
        "      <td>note: when talking into a voice-recorder in pu...</td>\n",
        "      <td>0</td>\n",
        "    </tr>\n",
        "    <tr>\n",
        "      <th>16</th>\n",
        "      <td>chuck norris sells cell phone...in czech repub...</td>\n",
        "      <td>0</td>\n",
        "    </tr>\n",
        "    <tr>\n",
        "      <th>17</th>\n",
        "      <td>#itisnotcute to Keep blasting your Cell phone ...</td>\n",
        "      <td>0</td>\n",
        "    </tr>\n",
        "    <tr>\n",
        "      <th>18</th>\n",
        "      <td>RT @iTweetFacts Cell Phones Are Much Dirtier T...</td>\n",
        "      <td>0</td>\n",
        "    </tr>\n",
        "    <tr>\n",
        "      <th>19</th>\n",
        "      <td>Not true. I practically WASH my phone everyday...</td>\n",
        "      <td>0</td>\n",
        "    </tr>\n",
        "    <tr>\n",
        "      <th>20</th>\n",
        "      <td>I just read something that said the average ce...</td>\n",
        "      <td>0</td>\n",
        "    </tr>\n",
        "    <tr>\n",
        "      <th>21</th>\n",
        "      <td>Is there any truth that cell phone numbers wil...</td>\n",
        "      <td>1</td>\n",
        "    </tr>\n",
        "    <tr>\n",
        "      <th>22</th>\n",
        "      <td>a person who uses a public bathroom and a cell...</td>\n",
        "      <td>0</td>\n",
        "    </tr>\n",
        "    <tr>\n",
        "      <th>23</th>\n",
        "      <td>US friends &amp; colleagues: Cell phone numbers go...</td>\n",
        "      <td>1</td>\n",
        "    </tr>\n",
        "    <tr>\n",
        "      <th>24</th>\n",
        "      <td>[FreeRepublic] Savvy entrepreneur sees school ...</td>\n",
        "      <td>0</td>\n",
        "    </tr>\n",
        "    <tr>\n",
        "      <th>25</th>\n",
        "      <td>Reading all about these awesome young entrepre...</td>\n",
        "      <td>0</td>\n",
        "    </tr>\n",
        "    <tr>\n",
        "      <th>26</th>\n",
        "      <td>Cell Phone Mobile Outside Bronx School: With a...</td>\n",
        "      <td>0</td>\n",
        "    </tr>\n",
        "    <tr>\n",
        "      <th>27</th>\n",
        "      <td>http://www.searchbug.com/ 4 free published pho...</td>\n",
        "      <td>1</td>\n",
        "    </tr>\n",
        "    <tr>\n",
        "      <th>28</th>\n",
        "      <td>Cell Phone Numbers 'Going Public'?: Are everyo...</td>\n",
        "      <td>1</td>\n",
        "    </tr>\n",
        "    <tr>\n",
        "      <th>29</th>\n",
        "      <td>Same could be said more many cell phone users ...</td>\n",
        "      <td>0</td>\n",
        "    </tr>\n",
        "    <tr>\n",
        "      <th>...</th>\n",
        "      <td>...</td>\n",
        "      <td>...</td>\n",
        "    </tr>\n",
        "    <tr>\n",
        "      <th>92</th>\n",
        "      <td>Cell Phone-Related Crash Claimed Life of Marin...</td>\n",
        "      <td>0</td>\n",
        "    </tr>\n",
        "    <tr>\n",
        "      <th>93</th>\n",
        "      <td>Cell Phone Numbers Go Public - Cell phone numb...</td>\n",
        "      <td>1</td>\n",
        "    </tr>\n",
        "    <tr>\n",
        "      <th>94</th>\n",
        "      <td>cell phone numbers go public in 30 days!  Call...</td>\n",
        "      <td>1</td>\n",
        "    </tr>\n",
        "    <tr>\n",
        "      <th>95</th>\n",
        "      <td>RT @Mindy_ALM cell phone #'s go public in 30 d...</td>\n",
        "      <td>1</td>\n",
        "    </tr>\n",
        "    <tr>\n",
        "      <th>96</th>\n",
        "      <td>RT @PublicDiplomacy: [Today in PD] How the Cel...</td>\n",
        "      <td>0</td>\n",
        "    </tr>\n",
        "    <tr>\n",
        "      <th>97</th>\n",
        "      <td>RT @STBJordan:cell phone #'s go public in 30 d...</td>\n",
        "      <td>1</td>\n",
        "    </tr>\n",
        "    <tr>\n",
        "      <th>98</th>\n",
        "      <td>RT @QUEENBELLAS: RT @STBJordan:cell phone #'s ...</td>\n",
        "      <td>1</td>\n",
        "    </tr>\n",
        "    <tr>\n",
        "      <th>99</th>\n",
        "      <td>REMEMBER: Cell Phone Numbers Go Public this mo...</td>\n",
        "      <td>1</td>\n",
        "    </tr>\n",
        "    <tr>\n",
        "      <th>100</th>\n",
        "      <td>@illfxdesigns At the risk of being mocked publ...</td>\n",
        "      <td>0</td>\n",
        "    </tr>\n",
        "    <tr>\n",
        "      <th>101</th>\n",
        "      <td>since cell phone numbers went public, getting ...</td>\n",
        "      <td>1</td>\n",
        "    </tr>\n",
        "    <tr>\n",
        "      <th>102</th>\n",
        "      <td>RT @AnnieintheSun: since cell phone numbers we...</td>\n",
        "      <td>1</td>\n",
        "    </tr>\n",
        "    <tr>\n",
        "      <th>103</th>\n",
        "      <td>RT @QUEENBELLAS: RT @STBJordan:cell phone #'s ...</td>\n",
        "      <td>1</td>\n",
        "    </tr>\n",
        "    <tr>\n",
        "      <th>104</th>\n",
        "      <td>RT @anglecta: @Ken_Miner  first I've heard of ...</td>\n",
        "      <td>1</td>\n",
        "    </tr>\n",
        "    <tr>\n",
        "      <th>105</th>\n",
        "      <td>RT @PublicDiplomacy: [Today in PD] How the Cel...</td>\n",
        "      <td>0</td>\n",
        "    </tr>\n",
        "    <tr>\n",
        "      <th>106</th>\n",
        "      <td>What is it with New Yorkers and using cell pho...</td>\n",
        "      <td>0</td>\n",
        "    </tr>\n",
        "    <tr>\n",
        "      <th>107</th>\n",
        "      <td>RT @jack_daniel: What is it with New Yorkers u...</td>\n",
        "      <td>0</td>\n",
        "    </tr>\n",
        "    <tr>\n",
        "      <th>108</th>\n",
        "      <td>Bobby Tillman case: Authorities seek cell phon...</td>\n",
        "      <td>0</td>\n",
        "    </tr>\n",
        "    <tr>\n",
        "      <th>109</th>\n",
        "      <td>The city isn't loud enough. Duh. RT @jack_dani...</td>\n",
        "      <td>0</td>\n",
        "    </tr>\n",
        "    <tr>\n",
        "      <th>110</th>\n",
        "      <td>My scanner's busted so my #retroavi is a cell ...</td>\n",
        "      <td>0</td>\n",
        "    </tr>\n",
        "    <tr>\n",
        "      <th>111</th>\n",
        "      <td>RT @JennQPublic: My scanner's busted so my #re...</td>\n",
        "      <td>0</td>\n",
        "    </tr>\n",
        "    <tr>\n",
        "      <th>112</th>\n",
        "      <td>@stephenkruiser Oh, good. I'm not the only one...</td>\n",
        "      <td>0</td>\n",
        "    </tr>\n",
        "    <tr>\n",
        "      <th>113</th>\n",
        "      <td>RT @jack_daniel: What is it with New Yorkers a...</td>\n",
        "      <td>0</td>\n",
        "    </tr>\n",
        "    <tr>\n",
        "      <th>114</th>\n",
        "      <td>To woman in public restroom-talking about your...</td>\n",
        "      <td>0</td>\n",
        "    </tr>\n",
        "    <tr>\n",
        "      <th>115</th>\n",
        "      <td>@public_nudity once in the car I pressed send ...</td>\n",
        "      <td>0</td>\n",
        "    </tr>\n",
        "    <tr>\n",
        "      <th>116</th>\n",
        "      <td>[JournalPublication] Lensfree Microscopy on a ...</td>\n",
        "      <td>0</td>\n",
        "    </tr>\n",
        "    <tr>\n",
        "      <th>117</th>\n",
        "      <td>[JournalPublication] Cost-effective and Compac...</td>\n",
        "      <td>0</td>\n",
        "    </tr>\n",
        "    <tr>\n",
        "      <th>118</th>\n",
        "      <td>REMEMBER: Cell Phone Numbers Go Public this mo...</td>\n",
        "      <td>1</td>\n",
        "    </tr>\n",
        "    <tr>\n",
        "      <th>119</th>\n",
        "      <td>Dude,common in Delhi RT @sehgalkaran Is this j...</td>\n",
        "      <td>0</td>\n",
        "    </tr>\n",
        "    <tr>\n",
        "      <th>120</th>\n",
        "      <td>FYI REMEMBER: Cell Phone Numbers Go Public thi...</td>\n",
        "      <td>1</td>\n",
        "    </tr>\n",
        "    <tr>\n",
        "      <th>121</th>\n",
        "      <td>.@wbarker @mkelley agree 'wrong' was done. I d...</td>\n",
        "      <td>0</td>\n",
        "    </tr>\n",
        "  </tbody>\n",
        "</table>\n",
        "<p>122 rows \u00d7 2 columns</p>\n",
        "</div>"
       ],
       "metadata": {},
       "output_type": "pyout",
       "prompt_number": 45,
       "text": [
        "                                                 tweet  label\n",
        "0    Witnessing people screaming/fighting with some...      0\n",
        "1    public transit. What a world. Please continue ...      0\n",
        "2    I just heard cell phone numbers go public this...      1\n",
        "3    RT @TIME: Twitter via cell phone: No data plan...      0\n",
        "4    @daveweigel Why don't you post your cell phone...      0\n",
        "5    Did y'all kno ur cell phone number goes public...      1\n",
        "6    Cell Phone #'s go public this month. To preven...      1\n",
        "7    publicly available cell-phone applications are...      0\n",
        "8    RT @randymarchany: publicly available cell-pho...      0\n",
        "9    RT @randymarchany: publicly available cell-pho...      0\n",
        "10   If u're gonna talk about somebody who's \"burni...      0\n",
        "11   Do NOT act a fool and curse people out on your...      0\n",
        "12   Community service message. All Cell Phone Numb...      1\n",
        "13   Cell phone #s go public this month to telemark...      1\n",
        "14   RT @riannariego: Cell phone #s go public this ...      0\n",
        "15   note: when talking into a voice-recorder in pu...      0\n",
        "16   chuck norris sells cell phone...in czech repub...      0\n",
        "17   #itisnotcute to Keep blasting your Cell phone ...      0\n",
        "18   RT @iTweetFacts Cell Phones Are Much Dirtier T...      0\n",
        "19   Not true. I practically WASH my phone everyday...      0\n",
        "20   I just read something that said the average ce...      0\n",
        "21   Is there any truth that cell phone numbers wil...      1\n",
        "22   a person who uses a public bathroom and a cell...      0\n",
        "23   US friends & colleagues: Cell phone numbers go...      1\n",
        "24   [FreeRepublic] Savvy entrepreneur sees school ...      0\n",
        "25   Reading all about these awesome young entrepre...      0\n",
        "26   Cell Phone Mobile Outside Bronx School: With a...      0\n",
        "27   http://www.searchbug.com/ 4 free published pho...      1\n",
        "28   Cell Phone Numbers 'Going Public'?: Are everyo...      1\n",
        "29   Same could be said more many cell phone users ...      0\n",
        "..                                                 ...    ...\n",
        "92   Cell Phone-Related Crash Claimed Life of Marin...      0\n",
        "93   Cell Phone Numbers Go Public - Cell phone numb...      1\n",
        "94   cell phone numbers go public in 30 days!  Call...      1\n",
        "95   RT @Mindy_ALM cell phone #'s go public in 30 d...      1\n",
        "96   RT @PublicDiplomacy: [Today in PD] How the Cel...      0\n",
        "97   RT @STBJordan:cell phone #'s go public in 30 d...      1\n",
        "98   RT @QUEENBELLAS: RT @STBJordan:cell phone #'s ...      1\n",
        "99   REMEMBER: Cell Phone Numbers Go Public this mo...      1\n",
        "100  @illfxdesigns At the risk of being mocked publ...      0\n",
        "101  since cell phone numbers went public, getting ...      1\n",
        "102  RT @AnnieintheSun: since cell phone numbers we...      1\n",
        "103  RT @QUEENBELLAS: RT @STBJordan:cell phone #'s ...      1\n",
        "104  RT @anglecta: @Ken_Miner  first I've heard of ...      1\n",
        "105  RT @PublicDiplomacy: [Today in PD] How the Cel...      0\n",
        "106  What is it with New Yorkers and using cell pho...      0\n",
        "107  RT @jack_daniel: What is it with New Yorkers u...      0\n",
        "108  Bobby Tillman case: Authorities seek cell phon...      0\n",
        "109  The city isn't loud enough. Duh. RT @jack_dani...      0\n",
        "110  My scanner's busted so my #retroavi is a cell ...      0\n",
        "111  RT @JennQPublic: My scanner's busted so my #re...      0\n",
        "112  @stephenkruiser Oh, good. I'm not the only one...      0\n",
        "113  RT @jack_daniel: What is it with New Yorkers a...      0\n",
        "114  To woman in public restroom-talking about your...      0\n",
        "115  @public_nudity once in the car I pressed send ...      0\n",
        "116  [JournalPublication] Lensfree Microscopy on a ...      0\n",
        "117  [JournalPublication] Cost-effective and Compac...      0\n",
        "118  REMEMBER: Cell Phone Numbers Go Public this mo...      1\n",
        "119  Dude,common in Delhi RT @sehgalkaran Is this j...      0\n",
        "120  FYI REMEMBER: Cell Phone Numbers Go Public thi...      1\n",
        "121  .@wbarker @mkelley agree 'wrong' was done. I d...      0\n",
        "\n",
        "[122 rows x 2 columns]"
       ]
      }
     ],
     "prompt_number": 45
    },
    {
     "cell_type": "code",
     "collapsed": false,
     "input": [],
     "language": "python",
     "metadata": {},
     "outputs": []
    }
   ],
   "metadata": {}
  }
 ]
}